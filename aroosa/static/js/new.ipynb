{
 "metadata": {
  "language_info": {
   "codemirror_mode": {
    "name": "ipython",
    "version": 3
   },
   "file_extension": ".py",
   "mimetype": "text/x-python",
   "name": "python",
   "nbconvert_exporter": "python",
   "pygments_lexer": "ipython3",
   "version": "3.8.5"
  },
  "orig_nbformat": 2,
  "kernelspec": {
   "name": "python385jvsc74a57bd006130c22ef7d3175d6a17da698957f9d2c6a70718df8c2317e5d005b03ffdfc8",
   "display_name": "Python 3.8.5 64-bit"
  }
 },
 "nbformat": 4,
 "nbformat_minor": 2,
 "cells": [
  {
   "cell_type": "code",
   "execution_count": 1,
   "metadata": {},
   "outputs": [
    {
     "output_type": "stream",
     "name": "stdout",
     "text": [
      "Collecting plotly\n  Downloading plotly-4.14.3-py2.py3-none-any.whl (13.2 MB)\nCollecting retrying>=1.3.3\n  Downloading retrying-1.3.3.tar.gz (10 kB)\nRequirement already satisfied: six in c:\\users\\aroos\\anaconda3\\lib\\site-packages (from plotly) (1.15.0)\nBuilding wheels for collected packages: retrying\n  Building wheel for retrying (setup.py): started\n  Building wheel for retrying (setup.py): finished with status 'done'\n  Created wheel for retrying: filename=retrying-1.3.3-py3-none-any.whl size=11434 sha256=16606a0308a6dfc6d49da39dc91b9a5e7a3c1e45f3c5e395c17dec7483c24bdf\n  Stored in directory: c:\\users\\aroos\\appdata\\local\\pip\\cache\\wheels\\c4\\a7\\48\\0a434133f6d56e878ca511c0e6c38326907c0792f67b476e56\nSuccessfully built retrying\nInstalling collected packages: retrying, plotly\nSuccessfully installed plotly-4.14.3 retrying-1.3.3\nNote: you may need to restart the kernel to use updated packages.\n"
     ]
    }
   ],
   "source": [
    "pip install plotly"
   ]
  },
  {
   "cell_type": "code",
   "execution_count": null,
   "metadata": {},
   "outputs": [],
   "source": []
  }
 ]
}