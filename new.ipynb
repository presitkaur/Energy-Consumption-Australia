{
 "metadata": {
  "language_info": {
   "codemirror_mode": {
    "name": "ipython",
    "version": 3
   },
   "file_extension": ".py",
   "mimetype": "text/x-python",
   "name": "python",
   "nbconvert_exporter": "python",
   "pygments_lexer": "ipython3",
   "version": "3.8.5"
  },
  "orig_nbformat": 2,
  "kernelspec": {
   "name": "python385jvsc74a57bd025dd71d175dacbdc7bc6f0737688b24d317e1ba140395f48d297e2109389b449",
   "display_name": "Python 3.8.5 64-bit ('base': conda)"
  }
 },
 "nbformat": 4,
 "nbformat_minor": 2,
 "cells": [
  {
   "cell_type": "code",
   "execution_count": 1,
   "metadata": {},
   "outputs": [
    {
     "output_type": "stream",
     "name": "stdout",
     "text": [
      "Collecting gapminder\n  Downloading gapminder-0.1-py3-none-any.whl (32 kB)\nRequirement already satisfied: pandas in c:\\users\\aroos\\anaconda3\\lib\\site-packages (from gapminder) (1.1.3)\nRequirement already satisfied: python-dateutil>=2.7.3 in c:\\users\\aroos\\anaconda3\\lib\\site-packages (from pandas->gapminder) (2.8.1)\nRequirement already satisfied: numpy>=1.15.4 in c:\\users\\aroos\\anaconda3\\lib\\site-packages (from pandas->gapminder) (1.19.2)\nRequirement already satisfied: pytz>=2017.2 in c:\\users\\aroos\\anaconda3\\lib\\site-packages (from pandas->gapminder) (2020.1)\nRequirement already satisfied: six>=1.5 in c:\\users\\aroos\\anaconda3\\lib\\site-packages (from python-dateutil>=2.7.3->pandas->gapminder) (1.15.0)\nInstalling collected packages: gapminder\nSuccessfully installed gapminder-0.1\nNote: you may need to restart the kernel to use updated packages.\n"
     ]
    }
   ],
   "source": [
    "pip install gapminder"
   ]
  },
  {
   "cell_type": "code",
   "execution_count": null,
   "metadata": {},
   "outputs": [],
   "source": []
  }
 ]
}